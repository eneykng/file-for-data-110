{
  "cells": [
    {
      "cell_type": "markdown",
      "metadata": {
        "id": "view-in-github",
        "colab_type": "text"
      },
      "source": [
        "<a href=\"https://colab.research.google.com/github/eneykng/file-for-data-110/blob/main/QR_Code_Generator.ipynb\" target=\"_parent\"><img src=\"https://colab.research.google.com/assets/colab-badge.svg\" alt=\"Open In Colab\"/></a>"
      ]
    },
    {
      "cell_type": "markdown",
      "metadata": {
        "id": "W4dTkBPrumA0"
      },
      "source": [
        "# QR Code Generator\n",
        "\n",
        "Ref https://pypi.org/project/qrcode/"
      ]
    },
    {
      "cell_type": "markdown",
      "source": [
        "To clear the output of a cell, click the “hamburger” at the upper right of the cell or right-click, then select Clear output .\n",
        "\n",
        "To clear the output of all cells, choose Select all cells from the Edit menu (or press ctrl-shift-A), then clear output as above."
      ],
      "metadata": {
        "id": "6MO8bWmgrq5f"
      }
    },
    {
      "cell_type": "markdown",
      "source": [
        "![image.png](data:image/png;base64,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)"
      ],
      "metadata": {
        "id": "daluuTf-prR_"
      }
    },
    {
      "cell_type": "code",
      "source": [
        "!pip install qrcode"
      ],
      "metadata": {
        "id": "zn85Xp-Mu9K4"
      },
      "execution_count": null,
      "outputs": []
    },
    {
      "cell_type": "code",
      "execution_count": null,
      "metadata": {
        "id": "T8EShYmi9vUW"
      },
      "outputs": [],
      "source": [
        "import qrcode\n",
        "qrcode.make('www.netflix.com')"
      ]
    },
    {
      "cell_type": "code",
      "source": [
        "qrcode.make('maliyou1@umbc.edu')"
      ],
      "metadata": {
        "id": "q9BYrRNHvhSS"
      },
      "execution_count": null,
      "outputs": []
    },
    {
      "cell_type": "code",
      "source": [
        "qrcode.make('I hate you!')"
      ],
      "metadata": {
        "id": "jUiDO5gfo3xN"
      },
      "execution_count": null,
      "outputs": []
    },
    {
      "cell_type": "code",
      "source": [
        "qrcode.make('Dr. Muhammad Ali Yousuf (he, him, his), Faculty - Department of Computer Science and Electrical Engineering, Graduate Program Director, Data Science, UMBC AT THE UNIVERSITIES AT SHADY GROVE, Office: 3121 BSE Building (IV) 9636 Gudelsky Drive, Rockville, MD 20850, Ph: 240-665-6457')"
      ],
      "metadata": {
        "id": "5-rH1lPuo1oL"
      },
      "execution_count": null,
      "outputs": []
    },
    {
      "cell_type": "code",
      "source": [
        "qrcode.make('https://discord.gg/CJZ2A2km')"
      ],
      "metadata": {
        "id": "3Bgym6XPpHrI"
      },
      "execution_count": null,
      "outputs": []
    },
    {
      "cell_type": "markdown",
      "source": [
        "# **<font size=24 color=orange>Your Turn!</font>**"
      ],
      "metadata": {
        "id": "N2EnNPRTxtK5"
      }
    },
    {
      "cell_type": "code",
      "source": [
        "# take any website and try to convert it into a QR code and then test it with your cell phone (if possible)"
      ],
      "metadata": {
        "id": "D1BejYwFxt8B"
      },
      "execution_count": null,
      "outputs": []
    }
  ],
  "metadata": {
    "colab": {
      "provenance": [],
      "include_colab_link": true
    },
    "kernelspec": {
      "display_name": "Python 3 (ipykernel)",
      "language": "python",
      "name": "python3"
    },
    "language_info": {
      "codemirror_mode": {
        "name": "ipython",
        "version": 3
      },
      "file_extension": ".py",
      "mimetype": "text/x-python",
      "name": "python",
      "nbconvert_exporter": "python",
      "pygments_lexer": "ipython3",
      "version": "3.9.12"
    }
  },
  "nbformat": 4,
  "nbformat_minor": 0
}