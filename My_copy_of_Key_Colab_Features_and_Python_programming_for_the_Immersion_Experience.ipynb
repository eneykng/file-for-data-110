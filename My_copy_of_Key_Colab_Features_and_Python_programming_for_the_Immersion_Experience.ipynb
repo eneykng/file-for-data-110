{
  "cells": [
    {
      "cell_type": "markdown",
      "metadata": {
        "id": "view-in-github",
        "colab_type": "text"
      },
      "source": [
        "<a href=\"https://colab.research.google.com/github/eneykng/file-for-data-110/blob/main/My_copy_of_Key_Colab_Features_and_Python_programming_for_the_Immersion_Experience.ipynb\" target=\"_parent\"><img src=\"https://colab.research.google.com/assets/colab-badge.svg\" alt=\"Open In Colab\"/></a>"
      ]
    },
    {
      "cell_type": "markdown",
      "source": [
        "# Key Colab Features, and Python Programming with libraries, for the Immersion Experience"
      ],
      "metadata": {
        "id": "zCZ19wwSRftj"
      }
    },
    {
      "cell_type": "markdown",
      "source": [
        "This is a (greatly) modfied copy of Google Colab provided notebook https://colab.research.google.com/notebooks/basic_features_overview.ipynb#scrollTo=RVuqWUXPQSHa\n",
        "\n",
        "It has been modified to suit the needs of this short course at UMBC.\n",
        "\n"
      ],
      "metadata": {
        "id": "2oTviT5N0rkY"
      }
    },
    {
      "cell_type": "markdown",
      "source": [
        "# What is Python?\n",
        "Python is a high-level, general-purpose programming language known for its readability and simplicity. This makes it a popular choice for beginners in programming.\n",
        "\n",
        "Here are 3 reasons why Python is particularly important in data science:\n",
        "\n",
        "* <font color=green>**Easy to Learn and Use**</font>: Python's syntax is clear and concise, allowing data scientists to focus on problem-solving rather than complex coding structures.\n",
        "\n",
        "* <font color=blue>**Extensive Libraries and Frameworks**</font>: Python boasts a rich ecosystem of libraries and frameworks specifically designed for data science tasks like data analysis, machine learning, and data visualization. Examples include NumPy, Pandas, Matplotlib, and Scikit-learn.\n",
        "\n",
        "* <font color=darkorange>**Versatility**</font>: Python is not just for data science! It's a general-purpose language that can be used for web development, scripting, and various other tasks. This versatility makes Python a valuable asset for data scientists who may encounter different problems throughout their projects."
      ],
      "metadata": {
        "id": "DM_BvjSSGLV7"
      }
    },
    {
      "cell_type": "markdown",
      "source": [
        "# But first, we must understand the Google colaboratory or Colab interface\n",
        "\n",
        "*   Menu items in the upper bar\n",
        "*   Left-hand column (Search/Variables/Secrets/Files inlcuding Google Drive link<br>\n",
        "    **Table of Contents** - outline of the titles in the open notebook<br>\n",
        "    **Search** - self explanatory<br>\n",
        "    **Variables** - way to follow what a variable does during the execution of a cell<br>\n",
        "    **Secrets** - place to store things that are sensitive (API keys, etc.)<br>\n",
        "    **Files** - Files in your runtime environment<br>\n",
        "    **Code Snippet** - small reuable pieces of code that can be inserted into a program or project.<br>\n",
        "    **Command pallette** - shortcut to some Colab features<br>\n",
        "    **Terminal** - not available on the free version of Colab\n",
        "*   Upper-right corner (Connect/Reconnect/Gemini, etc).<br>\n",
        "    **Reconnect** - If your Colab program terminates - reconnect. In order to provide access to students and under-resourced groups around the world, Colab prioritizes users who are actively programming in a notebook. You may get a \"Runtime Disconnected\" pop up window that will allow you to reconnect.<br>\n",
        "    **Gemini** - An AI assistant. The version of Gemini here is intended for questions related to Colab or coding in Colab using python. It won't know the answer to \"What is the capital of Missouri\"\n",
        "\n",
        "Colab notebooks are stored in Google Drive, or can be loaded from GitHub.\n",
        "\n",
        "\n"
      ],
      "metadata": {
        "id": "O66E3EXrSY9k"
      }
    },
    {
      "cell_type": "markdown",
      "metadata": {
        "id": "JyG45Qk3qQLS"
      },
      "source": [
        "# Cells\n",
        "A notebook is a list of cells. Cells contain either explanatory text or executable code and its output. Click a cell to select it."
      ]
    },
    {
      "cell_type": "markdown",
      "metadata": {
        "id": "7bqjkGKwQSHW"
      },
      "source": [
        "## Adding and moving cells\n",
        "You can add new cells by using the **+ CODE** and **+ TEXT** buttons that show when you hover between cells. These buttons are also in the toolbar above the notebook where they can be used to add a cell below the currently selected cell.\n",
        "\n",
        "You can move a cell by selecting it and clicking **Cell Up** or **Cell Down** in the top toolbar."
      ]
    },
    {
      "cell_type": "markdown",
      "source": [
        "##Executing a Code Cell\n",
        "Select the Arrow to the left of the code. The result will show at the bottom of the cell."
      ],
      "metadata": {
        "id": "ejakhSikaal-"
      }
    },
    {
      "cell_type": "code",
      "source": [
        "print('Hello, world!')"
      ],
      "metadata": {
        "id": "eD6SZaPHtiMu"
      },
      "execution_count": null,
      "outputs": []
    },
    {
      "cell_type": "markdown",
      "source": [
        "# Python Fundamentals:\n",
        "<img src=\"https://www.python.org/static/img/python-logo.png\" width = \"400\" height = \"100\"> </img>\n",
        "\n",
        "This includes understanding:\n",
        "* basic syntax\n",
        "* data types (integers, strings) and data structures (lists, dictionaries, and NumPy arrays)\n",
        "* control flow (using loops and conditionals)\n",
        "* functions\n",
        "\n",
        "##Hello World example:"
      ],
      "metadata": {
        "id": "n5rftV4gXj93"
      }
    },
    {
      "cell_type": "code",
      "source": [
        "print('Hello, world!')\n",
        "\n",
        "#print is a function. Functions usually require information to work correctly\n",
        "#this information is known as parameters and always go in between ( )\n",
        "\n",
        "#the syntax for a calling a function is:\n",
        "#   1. the function name\n",
        "#   2. the parameters within ( )\n"
      ],
      "metadata": {
        "id": "ZWb-GZ9YX2JE"
      },
      "execution_count": null,
      "outputs": []
    },
    {
      "cell_type": "markdown",
      "metadata": {
        "id": "jvIuuLsQh_4R"
      },
      "source": [
        "## Variables\n",
        "Variables are used to hold values that we will use throughout the program.\n",
        "\n",
        "To give variables a value we use an <font color =red>**assignment operator (=)**</font>. = is not an equality operator. The statement **a=10** is assigning the variable <font color=blue>**a**</font> the value of <font color=blue>**10**</font>."
      ]
    },
    {
      "cell_type": "code",
      "source": [
        "a=0\n",
        "print(a)\n",
        "a=10\n",
        "print(a)"
      ],
      "metadata": {
        "id": "h4Fp22aVkTOl"
      },
      "execution_count": null,
      "outputs": []
    },
    {
      "cell_type": "markdown",
      "source": [
        "###Variable naming rules:\n",
        "* any length\n",
        "* uppercase & lowercase letters, numbers and underscores\n",
        "* cannot begin with a number\n",
        "* are case sensitive<br>\n",
        "\n",
        "It is best to use variable names that are **descriptive** of the values they contain."
      ],
      "metadata": {
        "id": "q5uOQfVsnHC4"
      }
    },
    {
      "cell_type": "code",
      "source": [
        "#Without descriptive variable names\n",
        "a = 38\n",
        "b = 16.20\n",
        "c = a * b\n",
        "print(c)\n",
        "\n",
        "#With descriptive variable names\n",
        "numHours = 38\n",
        "payrate = 16.20\n",
        "weekly_pay = numHours * payrate\n",
        "print(weekly_pay)"
      ],
      "metadata": {
        "id": "yaBEqGuwncvw"
      },
      "execution_count": null,
      "outputs": []
    },
    {
      "cell_type": "markdown",
      "source": [
        "## Simple math - integers and floating point numbers\n",
        "\n",
        "Operators for simple math: <font color=red>+</font>, <font color=red>-</font>, <font color=red>\\*</font>, <font color=red>/</font>, <font color=red>%</font> (remainder), <font color=red>**</font> (power of), <font color=red>//</font> (integer division)"
      ],
      "metadata": {
        "id": "vDl1A9kfUzo3"
      }
    },
    {
      "cell_type": "code",
      "execution_count": null,
      "metadata": {
        "cellView": "both",
        "id": "WUtu4316QSHL"
      },
      "outputs": [],
      "source": [
        "# Define and add integers\n",
        "a = 10\n",
        "b = 20\n",
        "c = a + b\n",
        "print(c)"
      ]
    },
    {
      "cell_type": "code",
      "source": [
        "# floating point numbers\n",
        "a = 10.5\n",
        "b = 20.5\n",
        "c = b / a\n",
        "print(c)"
      ],
      "metadata": {
        "id": "Mb6WjMo2YWxR"
      },
      "execution_count": null,
      "outputs": []
    },
    {
      "cell_type": "code",
      "source": [
        "# floating point numbers using integer division\n",
        "a = 10.5\n",
        "b = 20.5\n",
        "c = b//a\n",
        "print(c)"
      ],
      "metadata": {
        "id": "eUagyYLHsnBu"
      },
      "execution_count": null,
      "outputs": []
    },
    {
      "cell_type": "code",
      "source": [
        "# division of integers still gives us a floating point number\n",
        "a = 11\n",
        "b = 20\n",
        "c = b / a\n",
        "print(c)"
      ],
      "metadata": {
        "id": "Al2CJn4PlVjp"
      },
      "execution_count": null,
      "outputs": []
    },
    {
      "cell_type": "markdown",
      "source": [
        "# **<font size=24 color=orange>Your Turn!</font>**"
      ],
      "metadata": {
        "id": "3DB2POlEs85P"
      }
    },
    {
      "cell_type": "code",
      "source": [
        "#modify the following code to calculate the number of decades that you have been alive\n",
        "age = 25\n",
        "numDecades = 10\n",
        "print(numDecades)"
      ],
      "metadata": {
        "id": "rfg-0CWyphS8"
      },
      "execution_count": null,
      "outputs": []
    },
    {
      "cell_type": "markdown",
      "source": [
        "## Basic string operations\n",
        "Strings are a sequence of charaters. To combine strings together use the concatenation operator (**+**)."
      ],
      "metadata": {
        "id": "tEzEhHw9U2hB"
      }
    },
    {
      "cell_type": "code",
      "source": [
        "# strings concatenated with + operator\n",
        "a = 'hello'\n",
        "b = 'world'\n",
        "c = a + ' ' + b\n",
        "print(c)"
      ],
      "metadata": {
        "id": "L6ge3PCnYcms"
      },
      "execution_count": null,
      "outputs": []
    },
    {
      "cell_type": "code",
      "source": [
        "# several strings into the print function\n",
        "# notice it automatically places a space between the strings\n",
        "# did this concatenate the strings together?\n",
        "a = 'hello'\n",
        "b = 'world'\n",
        "print(a,b)"
      ],
      "metadata": {
        "id": "CEkEbe5w3bJk"
      },
      "execution_count": null,
      "outputs": []
    },
    {
      "cell_type": "markdown",
      "source": [
        "# **<font size=24 color=orange>Your Turn!</font>**"
      ],
      "metadata": {
        "id": "8dtnJeTjxe_b"
      }
    },
    {
      "cell_type": "code",
      "source": [
        "#modify this code to print out \"My name is: \" followed by your name\n",
        "#Example output: My name is: John\n",
        "beginning = \"My name \"\n",
        "middle = \"is: \"\n",
        "name = \"Hi\"\n",
        "greeting = beginning + \" \"\n",
        "print(greeting)\n"
      ],
      "metadata": {
        "id": "wVuqCZfHmSDd"
      },
      "execution_count": null,
      "outputs": []
    },
    {
      "cell_type": "markdown",
      "source": [
        "# Lists\n",
        "\n",
        "Lists are a fundamental data structure in Python used to store an **ordered collection** of items. Unlike strings, which are sequences of characters, lists can contain elements of various data types [1, 2, \"hello\", 3.4]. This makes them versatile for storing all sorts of information.\n",
        "\n",
        "When counting the **location** of an element in a list, we always start with 0.\n",
        "\n",
        "### List of numbers"
      ],
      "metadata": {
        "id": "8h-tETE8VJ4B"
      }
    },
    {
      "cell_type": "code",
      "source": [
        "example_list = [1, 2, 3, 4, 5]\n",
        "print(example_list)\n"
      ],
      "metadata": {
        "id": "2tXWCT0MX_cl",
        "colab": {
          "base_uri": "https://localhost:8080/"
        },
        "outputId": "796b2874-438a-4b3c-998d-25d13a3898fc"
      },
      "execution_count": null,
      "outputs": [
        {
          "output_type": "stream",
          "name": "stdout",
          "text": [
            "[1, 2, 3, 4, 5]\n"
          ]
        }
      ]
    },
    {
      "cell_type": "markdown",
      "source": [
        "#####**FUNCTIONS** OF A LIST<br> There are many ways we can manipulate lists. <br>\n",
        "* add to the end of the list - **append(item to be added)**\n",
        "* add to a specific location in the list - **insert(location, item to be added)**\n",
        "* remove from the end of the list - **pop()**\n",
        "* remove from a specific location in the list - **pop(location)**\n",
        "\n",
        "To use these functions, we must determine **which** list we want to manipulate."
      ],
      "metadata": {
        "id": "D0lhnjkornG8"
      }
    },
    {
      "cell_type": "code",
      "source": [
        "# Add an element to the end of the list\n",
        "example_list.append(6)\n",
        "example_list"
      ],
      "metadata": {
        "id": "dtE_WAA1Tt23"
      },
      "execution_count": null,
      "outputs": []
    },
    {
      "cell_type": "code",
      "source": [
        "# Add an element at a specific index\n",
        "example_list.insert(0, 0)\n",
        "example_list"
      ],
      "metadata": {
        "id": "1Ppg79T7T78A"
      },
      "execution_count": null,
      "outputs": []
    },
    {
      "cell_type": "code",
      "source": [
        "# Remove an element from the end of the list\n",
        "example_list.pop()\n",
        "example_list"
      ],
      "metadata": {
        "id": "GuHQN3toT7sq"
      },
      "execution_count": null,
      "outputs": []
    },
    {
      "cell_type": "code",
      "source": [
        "# Remove an element at a specific index\n",
        "example_list.pop(0)\n",
        "example_list"
      ],
      "metadata": {
        "id": "lIU1nWhCT7Op"
      },
      "execution_count": null,
      "outputs": []
    },
    {
      "cell_type": "code",
      "source": [
        "# Pop returns the poppedItem\n",
        "print(\"before\")\n",
        "print(example_list)\n",
        "poppedItem = example_list.pop(0)\n",
        "print(\"after\")\n",
        "print(example_list)\n",
        "print(poppedItem)"
      ],
      "metadata": {
        "id": "gcUq_xbLwXbS"
      },
      "execution_count": null,
      "outputs": []
    },
    {
      "cell_type": "markdown",
      "source": [
        "### List of strings"
      ],
      "metadata": {
        "id": "1aEpGOpEW6GO"
      }
    },
    {
      "cell_type": "code",
      "source": [
        "# Create a list of strings\n",
        "strings = [\"Hello\", \"world\", \"!\"]\n",
        "print(strings)"
      ],
      "metadata": {
        "id": "C4q4qT6-U6KI"
      },
      "execution_count": null,
      "outputs": []
    },
    {
      "cell_type": "code",
      "source": [
        "# Access the first element of the list\n",
        "print(strings[0])"
      ],
      "metadata": {
        "id": "Qnxl6qxQXBl6"
      },
      "execution_count": null,
      "outputs": []
    },
    {
      "cell_type": "code",
      "source": [
        "# Access the last element of the list\n",
        "print(strings[-1])"
      ],
      "metadata": {
        "id": "DGp1N9rtXBZy"
      },
      "execution_count": null,
      "outputs": []
    },
    {
      "cell_type": "code",
      "source": [
        "# Repeat a string\n",
        "#repeats the [2] (3rd item in the list) 3 times\n",
        "print(strings[2] * 3)"
      ],
      "metadata": {
        "id": "l-kWs4v9XBPY"
      },
      "execution_count": null,
      "outputs": []
    },
    {
      "cell_type": "markdown",
      "source": [
        "# **<font size=24 color=orange>Your Turn!</font>**"
      ],
      "metadata": {
        "id": "wec7h1IkxnS3"
      }
    },
    {
      "cell_type": "code",
      "source": [
        "# modify the following code to create a list containing your first name, age and shoesize\n",
        "# then print out the list\n",
        "my_data ="
      ],
      "metadata": {
        "id": "cbg5Pj4-4yu6"
      },
      "execution_count": null,
      "outputs": []
    },
    {
      "cell_type": "markdown",
      "source": [
        "### Dictionaries (Not useful for us during this course so check them later when you have time)\n",
        "\n",
        "Dictionaries in Python are another fundamental data structure used to store collections of data. Unlike lists, which are ordered sequences, dictionaries store data as key-value pairs. This makes them useful for situations where you need to access data by a specific identifier, like a name or an id number"
      ],
      "metadata": {
        "id": "AoK3D3m2UZR4"
      }
    },
    {
      "cell_type": "code",
      "source": [
        "# prompt: Write an example of a dictionary and then do some basic operations on it\n",
        "\n",
        "# Create a dictionary (key-value pairs)\n",
        "my_dict = {'name': 'John', 'age': 30, 'city': 'New York'}\n",
        "\n",
        "# Print the dictionary\n",
        "print(my_dict)\n",
        "\n",
        "# Access a value by key\n",
        "print(my_dict['name'])\n",
        "\n",
        "# Add a new key-value pair\n",
        "my_dict['job'] = 'Software Engineer'\n",
        "\n",
        "# Print the updated dictionary\n",
        "print(my_dict)\n",
        "\n",
        "# Remove a key-value pair\n",
        "del my_dict['age']\n",
        "\n",
        "# Print the final dictionary\n",
        "print(my_dict)\n"
      ],
      "metadata": {
        "id": "yH0Lx0AeX_Ve"
      },
      "execution_count": null,
      "outputs": []
    },
    {
      "cell_type": "markdown",
      "metadata": {
        "id": "TYTBdJXxfqiJ"
      },
      "source": [
        "# Types of Errors<br>\n",
        "Errors must be resolved in order to get the correct output.<br>\n",
        "There are two types of errors\n",
        "* **Syntax errors** (the statements were formed incorrectly)\n",
        "* **Runtime errors** (the statements are correct, but when run, there was a error that would not let the program run to completion. The most common are division by zero and opening a file that doesn't exist)"
      ]
    },
    {
      "cell_type": "code",
      "source": [
        "#example of a syntax error\n",
        "name = \"John\"\n",
        "print name"
      ],
      "metadata": {
        "id": "_HXGOh7XyCJJ"
      },
      "execution_count": null,
      "outputs": []
    },
    {
      "cell_type": "code",
      "execution_count": null,
      "metadata": {
        "cellView": "both",
        "id": "CrJf1PEmQSHx"
      },
      "outputs": [],
      "source": [
        "#example of a runtime error (division by 0)\n",
        "#the statements are correct, but division by 0 is undefined\n",
        "x = 1\n",
        "y = 4\n",
        "z = y/(1-x)"
      ]
    },
    {
      "cell_type": "markdown",
      "source": [
        "#Control Flow\n",
        "Determines which statement will be executed next.<br> Always executes the next line of code unless there is a **conditional** or **repetition** control structure."
      ],
      "metadata": {
        "id": "AMz43Qbggu7N"
      }
    },
    {
      "cell_type": "markdown",
      "source": [
        "## Conditionals\n",
        "Conditionals are fundamental building blocks in programming that allow you to control the flow of your code based on certain **conditions**. They essentially act like decision-making tools.\n",
        "\n",
        "### **If** statement\n",
        "if statements are the most basic form of conditionals in Python. They let you execute a block of code only if a specified condition is true.\n",
        "The basic syntax of an if statement:\n",
        "* the keyword **if**\n",
        "* the condition which uses a conditional operator (==, !=, <, <=, >, >=)\n",
        "* colon\n",
        "* indent all code to be executed if condition is true\n",
        "\n",
        "How is the operator **=** different than the operator **==**?"
      ],
      "metadata": {
        "id": "w1HQXsRPBHAt"
      }
    },
    {
      "cell_type": "code",
      "source": [
        "#example of an if statement\n",
        "weather = \"raining\"\n",
        "if weather==\"raining\":\n",
        "  print(\"bring an umbrella\")\n",
        "  print(\"it is going to be wet\")\n",
        "print(\"done\")\n",
        "#now assign weather to \"snowing\", what is the output?"
      ],
      "metadata": {
        "id": "24mX6OKqyw_P"
      },
      "execution_count": null,
      "outputs": []
    },
    {
      "cell_type": "code",
      "source": [
        "# generate a random integer\n",
        "# we are importing a function called randint from a library called random\n",
        "from random import randint\n",
        "# example: to generate a number between 0 and 20.\n",
        "print(randint(0,21))"
      ],
      "metadata": {
        "id": "5hApFwLbBKJa"
      },
      "execution_count": null,
      "outputs": []
    },
    {
      "cell_type": "code",
      "source": [
        "# a will be a random number between 0 and 20\n",
        "a = randint(0,21)\n",
        "if a<10:\n",
        "    print(\"a is less than 10, as a =\", a)\n",
        "print(\"a generated, and a =\",a)"
      ],
      "metadata": {
        "id": "AElOklgHBKCT"
      },
      "execution_count": null,
      "outputs": []
    },
    {
      "cell_type": "markdown",
      "source": [
        "### If-Else statement\n",
        "if-else statements extend the functionality of if statements by allowing you to execute different code blocks depending on whether the condition is true or false.<br>\n",
        "The basic syntax of an **if-else** statement is the same as the if statement:\n",
        "* the keyword if\n",
        "* the condition which uses a conditional operator (==, !=, <, <=, >, >=)\n",
        "* colon\n",
        "* indent all code to be executed if condition is true\n",
        "\n",
        "and ...\n",
        "* keyword **else:** (not indented)\n",
        "* indent all code to be executed if condition is false"
      ],
      "metadata": {
        "id": "df_HD1DzBtbq"
      }
    },
    {
      "cell_type": "code",
      "source": [
        "#input allows the user to input from the keyboard\n",
        "#eval evaluates the input expression and converts it to an integer\n",
        "a = eval(input(\"Please input a number: \"))\n",
        "\n",
        "if a<10:\n",
        "    print(\"a is \")\n",
        "    print(\"less than 10\")\n",
        "else:\n",
        "    print(\"a is greater \")\n",
        "    print(\"or equal to 10\")\n",
        "#print knows how to print out strings, str(a) converts the integer a into a string\n",
        "print(\"a was\", str(a))\n",
        "#print also knows how to print out numerics\n",
        "print(\"a was\", a)\n",
        "\n",
        "# run this again, but this time enter 5 + 3 as the input"
      ],
      "metadata": {
        "id": "cSJlww6FBsr1"
      },
      "execution_count": null,
      "outputs": []
    },
    {
      "cell_type": "markdown",
      "source": [
        "# **<font size=24 color=orange>Your Turn!</font>**"
      ],
      "metadata": {
        "id": "trVh36vrzYTF"
      }
    },
    {
      "cell_type": "code",
      "source": [
        "#modify the following code to ask the user for thier age.\n",
        "#if the age > 18, print \"You are eligible to vote\",\n",
        "#if not, print \"You are NOT eligible to vote\"\n",
        "age ="
      ],
      "metadata": {
        "id": "vBK0YMc-zXqs"
      },
      "execution_count": null,
      "outputs": []
    },
    {
      "cell_type": "markdown",
      "source": [
        "#Repetition Statements<br>\n",
        "Repetion statements are statements that are repeated as long as a condition remains true.\n",
        "\n",
        "### For Loops\n",
        "\n",
        "For loops are a powerful tool in Python for iterating over a sequence of items. This means they can execute a block of code repeatedly, once for each item in the sequence.\n",
        "\n",
        "The basic syntax of a for loop\n",
        "\n",
        "* the keyword **for**\n",
        "* variable to hold 1 item in the collection\n",
        "* keyword **in**\n",
        "* a collection of items\n",
        "* colon\n",
        "* indent all code to be executed repeatedly\n",
        "\n",
        "The for loop will execute the number of times as there are items in the collection."
      ],
      "metadata": {
        "id": "7JAFP9jTBsJ8"
      }
    },
    {
      "cell_type": "code",
      "source": [
        "for i in (1,2,3,4,5,6,7,8,9):\n",
        "    print(i)"
      ],
      "metadata": {
        "id": "_A29g1ROCAyM"
      },
      "execution_count": null,
      "outputs": []
    },
    {
      "cell_type": "markdown",
      "source": [
        "###While Loops<br>\n",
        "Syntax for while loops:\n",
        "* keyword **while**\n",
        "* condition using a conditional operator (==, !=, <, <=, >, >=)\n",
        "* colon\n",
        "* indent all statements to be executed when condition is true\n",
        "\n",
        "In many cases a while loop uses a **counter** to determine the number of times to repeat\n",
        "* initialized before the loop\n",
        "* used in the condition\n",
        "* modified within the loop (usually incremented)\n",
        "\n",
        "The while loop will execute the indented block of code as long as the condition remains true."
      ],
      "metadata": {
        "id": "XbLxxzwj7A59"
      }
    },
    {
      "cell_type": "code",
      "source": [
        "#example of using a while loop with a counter\n",
        "counter = 0  #initialization of counter\n",
        "while counter<10:  #counter used in condition\n",
        "  print(counter)\n",
        "  counter+=1 #modification of counter\n",
        "print(\"done\")"
      ],
      "metadata": {
        "id": "D0z3vB0M8C4v"
      },
      "execution_count": null,
      "outputs": []
    },
    {
      "cell_type": "markdown",
      "source": [
        "# **<font size=24 color=orange>Your Turn!</font>**"
      ],
      "metadata": {
        "id": "yrAe2TjRylr3"
      }
    },
    {
      "cell_type": "code",
      "source": [
        "#modify this code to print 10 down to 1\n",
        "counter = 0  #initialization of counter\n",
        "while counter<10:  #counter used in condition\n",
        "  print(counter)\n",
        "  counter+=1 #modification of counter\n",
        "print(\"done\")"
      ],
      "metadata": {
        "id": "OJY5ee9dysc9"
      },
      "execution_count": null,
      "outputs": []
    },
    {
      "cell_type": "markdown",
      "source": [
        "# Data Manipulation and Analysis:\n",
        "\n",
        "Learn how to use libraries like Pandas to load, clean, transform, and analyze data. This includes exploring and summarizing data using methods and statistical functions"
      ],
      "metadata": {
        "id": "vtjBDyGObRgu"
      }
    },
    {
      "cell_type": "markdown",
      "source": [
        "# Pandas Library\n",
        "Pandas is a powerful Python **library** used for data analysis and manipulation. It provides easy-to-use data structures and operations for tasks such as:\n",
        "* loading data from various sources\n",
        "* cleaning and transforming data\n",
        "* performing data analysis\n",
        "* visualizing data <br>\n",
        "\n",
        "Pandas is built on top of the **NumPy** library and provides a high-level interface for working with data.\n",
        "\n",
        "One of the key features of Pandas is its **DataFrame** object, which is a tabular data structure that can be used to store and manipulate data in a spreadsheet-like format. DataFrames can be **created** from a variety of sources, such as:\n",
        "* CSV files\n",
        "* Excel spreadsheets\n",
        "* databases\n",
        "\n",
        "Pandas also provides a variety of methods for **manipulating and analyzing data**. For example, you can use Pandas to\n",
        "* select specific rows or columns from a DataFrame\n",
        "* filter data based on certain criteria\n",
        "* perform operations on the data\n",
        "\n",
        "Pandas also has built-in support for **statistical analysis**, such as calculating:\n",
        "* means\n",
        "* standard deviations\n",
        "* correlations\n",
        "\n",
        "Finally, Pandas provides a variety of **data visualization tools**, such as:\n",
        "* line plots\n",
        "* bar plots\n",
        "* histograms\n",
        "\n",
        "This makes it easy to visualize your data and gain insights into its structure and relationships.\n",
        "\n",
        "Overall, Pandas is a powerful and versatile library that can be used for a wide range of data analysis and manipulation tasks. It is easy to learn and use, and it can significantly improve your productivity when working with data.\n"
      ],
      "metadata": {
        "id": "LyFruiuAI7OI"
      }
    },
    {
      "cell_type": "markdown",
      "source": [
        " - In pandas, a data table is called a DataFrame.  <br>\n",
        "<img src=\"https://pandas.pydata.org/pandas-docs/stable/_images/01_table_dataframe.svg\" width=\"400\">\n",
        "\n",
        " - Pandas supports the integration with many file formats or data sources out of the box (csv, excel, sql, json, parquet,…). Importing data from each of these data sources is provided by function with the prefix <span style=\"color: red;\">**read_** * </span>. Similarly, the <span style=\"color: red;\">**to_** *</span> methods are used to store data <br> [e.g. <code> sales = pd.read_csv(\"sales_data.csv\" </code>) ] <br>\n",
        "<img src=\"https://pandas.pydata.org/pandas-docs/stable/_images/02_io_readwrite.svg\" width=\"800\">\n",
        "\n",
        "Before working with different datasets, let's learn the basics."
      ],
      "metadata": {
        "id": "hTzIlx9eCX42"
      }
    },
    {
      "cell_type": "code",
      "source": [
        "# Importing the pandas package as pd\n",
        "# pd is the object I will use to call any functions in the pandas package\n",
        "import pandas as pd"
      ],
      "metadata": {
        "id": "-12ykbvhAK5y"
      },
      "execution_count": null,
      "outputs": []
    },
    {
      "cell_type": "markdown",
      "source": [
        "##Series\n",
        "pd.Series() is a one-dimensional **labeled array** capable of holding any data type. It can be thought of as a single column with the indexes as the labels."
      ],
      "metadata": {
        "id": "Bfb_dqeF4-_3"
      }
    },
    {
      "cell_type": "code",
      "execution_count": null,
      "metadata": {
        "id": "_VDQV-YxdWga"
      },
      "outputs": [],
      "source": [
        "# Creating a Series by passing a list of values,\n",
        "# letting pandas create a default one dimensional integer array:\n",
        "s1 = pd.Series([1, 3, 5, 6, 11])\n",
        "s1 #print out details of s1\n",
        "#the first column is the column index as the label,\n",
        "#    the second column is the data at that index"
      ]
    },
    {
      "cell_type": "code",
      "source": [
        "# give our columns names\n",
        "list1 = [\"John\",22,11.5,\"yes\"]\n",
        "database = pd.Series(data=list1, index=['name','age','shoesize','student'])\n",
        "database #prints out details of database\n",
        "#the first column is the named column index, the second column is the data at that index\n",
        "\n"
      ],
      "metadata": {
        "id": "OGkPf7yAHN8B"
      },
      "execution_count": null,
      "outputs": []
    },
    {
      "cell_type": "markdown",
      "source": [
        "#Reading from a .csv file\n",
        "pd.read_csv() reads a .csv file and puts the data into a dataframe for manipulation."
      ],
      "metadata": {
        "id": "0IZkaWtw3noJ"
      }
    },
    {
      "cell_type": "code",
      "source": [
        "# prompt: import iris data as a dataframe and then display it in various formats\n",
        "\n",
        "import pandas as pd\n",
        "\n",
        "# Load the Iris dataset (it is a .csv file)\n",
        "iris = pd.read_csv(\"https://raw.githubusercontent.com/mwaskom/seaborn-data/master/iris.csv\")\n",
        "\n",
        "# Print the first five rows of the datafra\n",
        "iris.head()"
      ],
      "metadata": {
        "id": "FBCT9ohBG_bB"
      },
      "execution_count": null,
      "outputs": []
    },
    {
      "cell_type": "code",
      "source": [
        "# Print the summary statistics of the dataframe\n",
        "iris.describe()"
      ],
      "metadata": {
        "id": "VCzf-ludHzYZ"
      },
      "execution_count": null,
      "outputs": []
    },
    {
      "cell_type": "code",
      "source": [
        "# Print the information about the dataframe\n",
        "iris.info()"
      ],
      "metadata": {
        "id": "-BOixLz7Hmmh"
      },
      "execution_count": null,
      "outputs": []
    },
    {
      "cell_type": "code",
      "source": [
        "# Print the shape of the dataframe\n",
        "iris.shape # meaning how many rows and columns of data we have"
      ],
      "metadata": {
        "id": "ucx8EiFrHmfi"
      },
      "execution_count": null,
      "outputs": []
    },
    {
      "cell_type": "code",
      "source": [
        "# Print the columns of the dataframe (just a list of column headers, like headers in an Excel sheet)\n",
        "iris.columns"
      ],
      "metadata": {
        "id": "FJsLNkhPHmZT"
      },
      "execution_count": null,
      "outputs": []
    },
    {
      "cell_type": "code",
      "source": [
        "# Bar graph for a column\n",
        "iris.head(10).style.bar(color = 'lightgreen', subset = 'sepal_length')"
      ],
      "metadata": {
        "id": "i_nUlu9RCmnQ"
      },
      "execution_count": null,
      "outputs": []
    },
    {
      "cell_type": "code",
      "source": [
        "# Bar graph for a column\n",
        "iris.head(10).style.bar(color = 'lightgreen', subset = 'petal_length')"
      ],
      "metadata": {
        "id": "_3MowhNKBmFn"
      },
      "execution_count": null,
      "outputs": []
    },
    {
      "cell_type": "code",
      "source": [
        "iris.head(10).style.background_gradient(cmap = 'Blues' , subset = 'petal_length')"
      ],
      "metadata": {
        "id": "XJvTE1irDbW_"
      },
      "execution_count": null,
      "outputs": []
    },
    {
      "cell_type": "markdown",
      "source": [
        "# NumPy (Numerical Python)\n",
        "\n",
        " Numpy provides python with its **numerical** muscle.This is your go-to package.\n",
        " The package is written in C and made to deal with:\n",
        " * N-dimensional arrays\n",
        " * all basic mathematical operations\n",
        " * linear algebra operations\n",
        " * et cetera<br>\n",
        "\n",
        "We will not be going through all of the power of this module. For more\n",
        " https://numpy.org/doc/stable/reference/index.html\n",
        "\n",
        "Numpy arrays are the base object containing a variety of powerful methods.\n",
        "\n",
        "Making a **Numpy array** is easy:\n",
        "\n",
        "* provide a list [ ] of elements for the array\n",
        "* rows within the list are also within [ ]\n",
        "* elements in the list are intended to be numeric\n",
        "* np.array( [ ] )\n",
        "* np.array( <font color=red>[</font> [ ] [ ] <font color=red>]</font> ) - an array with 2 rows"
      ],
      "metadata": {
        "id": "2GkdEfPLG2AN"
      }
    },
    {
      "cell_type": "code",
      "source": [
        "#import the numpy package as np\n",
        "#np is the object I will use to call any functions in the numpy package\n",
        "import numpy as np"
      ],
      "metadata": {
        "id": "tEUFn2T0HGly"
      },
      "execution_count": null,
      "outputs": []
    },
    {
      "cell_type": "code",
      "source": [
        "# This creates a one dimentional array\n",
        "# Notice the two types of brackets here, ( and [\n",
        "# information that the function needs is inbetween ()\n",
        "# to indicate that something is a list, put it between []\n",
        "array1 = np.array([1,2,3])\n",
        "array1 #prints out the details of array1, it is an array with one element - a list [1,2,3]\n",
        "#to print out the elements of the array - uncomment the following line\n",
        "#print(array1)"
      ],
      "metadata": {
        "id": "WAvdl0_KHHhA"
      },
      "execution_count": null,
      "outputs": []
    },
    {
      "cell_type": "markdown",
      "source": [
        "# **<font size=24 color=orange>Your Turn!</font>**"
      ],
      "metadata": {
        "id": "ZFzl0w9JzrEj"
      }
    },
    {
      "cell_type": "code",
      "source": [
        "# create a numPy array with the ages of everyone in your family. Print out the array."
      ],
      "metadata": {
        "id": "MjJnUr3Xz1Zo"
      },
      "execution_count": null,
      "outputs": []
    },
    {
      "cell_type": "markdown",
      "source": [
        "##Numpy arrays can be N-dimensional\n",
        "which is of particular use with tables of data (i.e. 2-D)"
      ],
      "metadata": {
        "id": "4NJZIphKHXRw"
      }
    },
    {
      "cell_type": "code",
      "source": [
        "# Creating a 3x2 Array:\n",
        "# Each row is a list and sits within [ ]\n",
        "# This array will have 3 rows, each row has two columns\n",
        "array4 = np.array( [[1, 2], [3, 4], [5, 6]])\n",
        "print(array4)"
      ],
      "metadata": {
        "id": "LuadKEFfHYKk"
      },
      "execution_count": null,
      "outputs": []
    },
    {
      "cell_type": "markdown",
      "source": [
        "##Special arrays"
      ],
      "metadata": {
        "id": "N1RbQivkHeVp"
      }
    },
    {
      "cell_type": "code",
      "source": [
        "# create a one dimensional array with elements in a range of 0 up to but not including 10\n",
        "array5 = np.arange(10)\n",
        "print(array5)"
      ],
      "metadata": {
        "id": "X-MlW_kNHfwx"
      },
      "execution_count": null,
      "outputs": []
    },
    {
      "cell_type": "code",
      "source": [
        "# create a one dimensional array with 10 elements with the value 1\n",
        "array7 = np.ones(10)\n",
        "print(array7)"
      ],
      "metadata": {
        "id": "8C7Zg5kuHjUQ"
      },
      "execution_count": null,
      "outputs": []
    },
    {
      "cell_type": "code",
      "source": [
        "# create a two dimensional array with 3 rows and 15 columns of elements with the value of 0\n",
        "# easy way to initialize an array\n",
        "array8 = np.zeros((3,15))\n",
        "print(array8)"
      ],
      "metadata": {
        "id": "atVK6WN3HmAo"
      },
      "execution_count": null,
      "outputs": []
    },
    {
      "cell_type": "code",
      "source": [
        "# Mathematical operations proceed element-wise, as follows\n",
        "array1 = np.array([0.5, 1.0, 1.5, 2.0])\n",
        "print(array1+5)\n",
        "#do you think the elements in array1 were changed?, uncomment following statement to check\n",
        "#array1"
      ],
      "metadata": {
        "id": "SuGrOCz2HxSb"
      },
      "execution_count": null,
      "outputs": []
    },
    {
      "cell_type": "markdown",
      "source": [
        "##Convert a Numpy Array into a DataFrame"
      ],
      "metadata": {
        "id": "eDY5PdTf9ysL"
      }
    },
    {
      "cell_type": "code",
      "source": [
        "data = np.array([[1,2], [3,4]])\n",
        "df = pd.DataFrame(data)\n",
        "print (df)"
      ],
      "metadata": {
        "id": "R4qZAmre-UGk"
      },
      "execution_count": null,
      "outputs": []
    },
    {
      "cell_type": "code",
      "source": [
        "# lets give the rows and columns labels\n",
        "df = pd.DataFrame(data, columns=['A', 'B'], index=['First', 'Second'])\n",
        "print (df)"
      ],
      "metadata": {
        "id": "4wzsQy_O-uuP"
      },
      "execution_count": null,
      "outputs": []
    },
    {
      "cell_type": "markdown",
      "source": [
        "# **<font size=24 color=orange>Your Turn!</font>**"
      ],
      "metadata": {
        "id": "twTwLxB61j5O"
      }
    },
    {
      "cell_type": "code",
      "source": [
        "# create a Dataframe with the following data, set the row names to \"June\" & \"July\"\n",
        "# and the columns to \"Budgeted\" & \"Spent\". Print out the Dataframe\n",
        "data = np.array([[350,455],[500,475]])"
      ],
      "metadata": {
        "id": "DvTrn_Zc0tn4"
      },
      "execution_count": null,
      "outputs": []
    },
    {
      "cell_type": "markdown",
      "metadata": {
        "id": "7cRnhv_7N4Pa"
      },
      "source": [
        "# Plots\n",
        "Until now all of the generated outputs have been text, but they can be more interesting, like the chart below.\n",
        "\n",
        "**Plotting** in Python refers to the creation of **visual representations** of data using libraries. These visualizations can be useful for understanding\n",
        "* trends\n",
        "* identifying patterns\n",
        "* communicating information effectively\n",
        "\n",
        "Some of the most common types of plots are:\n",
        "* line\n",
        "* bar\n",
        "* histogram\n",
        "* scatter\n",
        "\n",
        "Matplotlib is a plotting library for the Python programming language.\n",
        "\n",
        "Mathplotlib.pyplot is an interface for working with Matplotlib.\n"
      ]
    },
    {
      "cell_type": "code",
      "source": [
        "import numpy as np\n",
        "# the math library contains mathmatical functions and constants\n",
        "#    we will be using the sin function for returning the sine of x\n",
        "import math\n",
        "import matplotlib.pyplot as plt\n",
        "# plt is the object to use when calling the pyplot functions\n",
        "\n",
        "# Create a numpy array of 100 equally spaced values between 0 and 4*math.pi (12.56)\n",
        "# start at 0, end at 4*math.pi, number of evenly spaced elements is 100\n",
        "x = np.linspace(0, 4*math.pi, 100)\n",
        "\n",
        "# Create an array that calculates the sine of each value in the numpy array x\n",
        "y = np.sin(x)\n",
        "\n",
        "# Plot the sine function\n",
        "# x is the 100 values from 0 to 12.56\n",
        "# y is the sine of each of those values\n",
        "# by default plt.plot creates a line plot\n",
        "plt.plot(x, y)\n",
        "\n",
        "# Add a title and labels to the plot\n",
        "plt.title(\"Sine Function\")\n",
        "plt.xlabel(\"X\")\n",
        "plt.ylabel(\"Sine(X)\")\n",
        "\n",
        "\n",
        "# Show the plot\n",
        "plt.show()"
      ],
      "metadata": {
        "id": "UaNanNQ-STHs"
      },
      "execution_count": null,
      "outputs": []
    },
    {
      "cell_type": "markdown",
      "source": [
        "# **<font size=24 color=orange>Your Turn!</font>**"
      ],
      "metadata": {
        "id": "zD_tFn2A8ezy"
      }
    },
    {
      "cell_type": "code",
      "source": [
        "# given the following for x and y, plot x and y. See if you can figure out the\n",
        "#   title, xlabel and y label\n",
        "import numpy as np\n",
        "import math\n",
        "import matplotlib.pyplot as plt\n",
        "\n",
        "x = np.linspace(0, 5,100)\n",
        "y = pow(x,2)"
      ],
      "metadata": {
        "id": "uwCM1b2j6x2p"
      },
      "execution_count": null,
      "outputs": []
    },
    {
      "cell_type": "code",
      "source": [
        "# prompt: draw a beautiful pie chart using whichever data needed\n",
        "\n",
        "import matplotlib.pyplot as plt\n",
        "\n",
        "# Data to plot\n",
        "labels = \"Python\", \"C++\", \"Ruby\", \"Java\"\n",
        "sizes = [504, 337, 415, 280]\n",
        "colors = [\"yellowgreen\", \"gold\", \"lightskyblue\", \"lightcoral\"]\n",
        "\n",
        "# Create a pie chart\n",
        "# first parameter is what is being plotted\n",
        "# second parameter offsets the portion of the pie, the first pie piece will be offset\n",
        "#    .1 is the fraction of the radius to offset\n",
        "# labels and colors - self explanatory\n",
        "# autopct is format to label wedges, 1.1f means a floating point with at least\n",
        "#     1 digit before the decimal and 1 digit after the decimal\n",
        "# shadow is whether to draw a shadow beneath the pie\n",
        "# startangle is the angle the start of the pie is rotated, counterclockwise\n",
        "plt.pie(sizes, explode=(0.1, 0, 0, 0), labels=labels, colors=colors,\n",
        "        autopct=\"%1.1f%%\", shadow=True, startangle=140)\n",
        "#change startangle to 0 to see where the pie starts\n",
        "\n",
        "# Equal aspect ratio ensures that pie is drawn as a circle\n",
        "plt.axis(\"equal\")\n",
        "\n",
        "# Add title\n",
        "plt.title(\"Programming Language Popularity\")\n",
        "\n",
        "# Show the pie chart\n",
        "plt.show()\n"
      ],
      "metadata": {
        "id": "BVLV2gehIkQV"
      },
      "execution_count": null,
      "outputs": []
    },
    {
      "cell_type": "code",
      "source": [
        "# A histrogram shows the number of items that fall into a certain range called a bin\n",
        "from random import randint\n",
        "# Generate an array with random data elements (0 - 999)\n",
        "random_ints = [randint(1, 1000) for _ in range(1000)]\n",
        "\n",
        "# Create the histogram\n",
        "# there are 30 bins, the first bin is from 0 to 33 (999/30)\n",
        "plt.hist(random_ints, bins=30)\n",
        "plt.xlabel('Values')\n",
        "plt.ylabel('Frequency')\n",
        "plt.title('Histogram Example')\n",
        "plt.show()\n"
      ],
      "metadata": {
        "id": "gUPYcwc6ACB4"
      },
      "execution_count": null,
      "outputs": []
    },
    {
      "cell_type": "code",
      "source": [
        "# This one is sophisticated but we'll see how to write code for such things later.\n",
        "\n",
        "import numpy as np\n",
        "#IPython is the Interactive Python package\n",
        "import IPython.display as display\n",
        "from matplotlib import pyplot as plt\n",
        "#io provides functions for dealing with input and output\n",
        "import io\n",
        "#base64 is used for encoding and decoding data\n",
        "import base64\n",
        "\n",
        "# np.random.randn(100) generates 100 random numbers from a standard normal\n",
        "#     distrubution (mean 0 and standard deviation 1)\n",
        "# ys adds 200 to each of these random numbers so the distribution is centered\n",
        "#     around 200 instead of 0\n",
        "ys = 200 + np.random.randn(100)\n",
        "# len(ys) is 100\n",
        "# x will be a list of numbers from 0 to 99 (range(100))\n",
        "x = [x for x in range(len(ys))]\n",
        "\n",
        "fig = plt.figure(figsize=(4, 3), facecolor='w')\n",
        "# plot x and ys, '-' means use a solid line instead of individual points\n",
        "plt.plot(x, ys, '-')\n",
        "# fill solidly with green everything between 0 and 195 on the y-axis\n",
        "# fill only to datapoint if ys is > 195, .6 is the transparency (1 is opaque)\n",
        "plt.fill_between(x, ys, 195, where=(ys > 195), facecolor='g', alpha=0.6)\n",
        "plt.title(\"Sample Visualization\", fontsize=10)\n",
        "\n",
        "plt.show()\n",
        "\n",
        "#data = io.BytesIO()\n",
        "#plt.savefig(data)\n",
        "#image = F\"data:image/png;base64,{base64.b64encode(data.getvalue()).decode()}\"\n",
        "#alt = \"Sample Visualization\"\n",
        "#display.display(display.Markdown(F\"\"\"![{alt}]({image})\"\"\"))\n",
        "#plt.close(fig)"
      ],
      "metadata": {
        "id": "DmuYmFyPYKGM"
      },
      "execution_count": null,
      "outputs": []
    },
    {
      "cell_type": "code",
      "source": [
        "# prompt: draw a three-dimensional plot using whichever data that is needed\n",
        "\n",
        "import numpy as np\n",
        "import matplotlib.pyplot as plt\n",
        "\n",
        "# Create a 3D plot\n",
        "# fig is a new default figure\n",
        "fig = plt.figure()\n",
        "# ax is the axes for the figure, 111 is the figure identifier, projection is the type of Axes\n",
        "ax = fig.add_subplot(111, projection='3d')\n",
        "\n",
        "# Generate some data\n",
        "# x and y will contain 100 evenly spaced numbers from -5 to 5\n",
        "x = np.linspace(-5, 5, 100)\n",
        "y = np.linspace(-5, 5, 100)\n",
        "\n",
        "# meshgrid returns a coordinate grid, X and Y have same # of entries,\n",
        "# it is like matrix multiplication, X and Y will each have # of columns\n",
        "#       as x and # of rows as y\n",
        "#       in this case x has 100 columns and y has 1 row,\n",
        "#       so both X and Y will look like x and y\n",
        "# it is intended to be able to take arrays of different sizes and create a matrix\n",
        "# that allows them to be plotted against each other\n",
        "X, Y = np.meshgrid(x, y)\n",
        "\n",
        "# z is an array of 100 elements, each element is X**2 + Y**2\n",
        "z = np.sin(np.sqrt(X**2 + Y**2))\n",
        "\n",
        "# Plot the data\n",
        "ax.plot_surface(X, Y, z, cmap='viridis')\n",
        "\n",
        "# Add labels and title\n",
        "ax.set_xlabel('X', fontsize=15)\n",
        "ax.set_ylabel('Y', fontsize=15)\n",
        "ax.set_zlabel('Z', fontsize=15)\n",
        "ax.set_title('3D Surface Plot', fontsize=18)\n",
        "\n",
        "# Show the plot\n",
        "plt.show()"
      ],
      "metadata": {
        "id": "eJmhND3JIvrf"
      },
      "execution_count": null,
      "outputs": []
    },
    {
      "cell_type": "markdown",
      "metadata": {
        "id": "aro-UJgUQSH1"
      },
      "source": [
        "# Integration with Drive\n",
        "\n",
        "Colaboratory is integrated with Google Drive. It allows you to share, comment, and collaborate on the same document with multiple people:\n",
        "\n",
        "* The **SHARE** button (top-right of the toolbar) allows you to share the notebook and control permissions set on it.\n",
        "\n",
        "* **File->Make a Copy** creates a copy of the notebook in Drive.\n",
        "\n",
        "* **File->Save** saves the File to Drive. **File->Save and pin revision** pins the version so it doesn't get deleted from the revision history.\n",
        "\n",
        "* **File->Revision history** shows the notebook's revision history."
      ]
    }
  ],
  "metadata": {
    "colab": {
      "provenance": [],
      "include_colab_link": true
    },
    "kernelspec": {
      "display_name": "Python 3",
      "name": "python3"
    }
  },
  "nbformat": 4,
  "nbformat_minor": 0
}