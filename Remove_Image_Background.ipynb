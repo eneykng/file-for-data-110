{
  "cells": [
    {
      "cell_type": "markdown",
      "metadata": {
        "id": "view-in-github",
        "colab_type": "text"
      },
      "source": [
        "<a href=\"https://colab.research.google.com/github/eneykng/file-for-data-110/blob/main/Remove_Image_Background.ipynb\" target=\"_parent\"><img src=\"https://colab.research.google.com/assets/colab-badge.svg\" alt=\"Open In Colab\"/></a>"
      ]
    },
    {
      "cell_type": "markdown",
      "source": [
        "# Remove Image Background"
      ],
      "metadata": {
        "id": "w2nxZ-GvxbXl"
      },
      "id": "w2nxZ-GvxbXl"
    },
    {
      "cell_type": "markdown",
      "id": "e12f5083",
      "metadata": {
        "id": "e12f5083"
      },
      "source": [
        "From https://www.youtube.com/watch?v=RkdFkhfMK2k"
      ]
    },
    {
      "cell_type": "markdown",
      "source": [
        "<img src = \"https://base-prod.rspb-prod.magnolia-platform.com/.imaging/focalpoint/_WIDTH_x_HEIGHT_/dam/jcr:71eda09d-9010-474a-8404-cba78c2489d6/654943777-Species-Swallow-flying-over-water.jpg\">"
      ],
      "metadata": {
        "id": "Bjgvq0GK1oHz"
      },
      "id": "Bjgvq0GK1oHz"
    },
    {
      "cell_type": "markdown",
      "source": [
        "Download bird image from the following and call it Bird.jpg\n",
        "\n",
        "https://images.app.goo.gl/3E1DMhxmBduog7dC8\n"
      ],
      "metadata": {
        "id": "44EuHewl1UyT"
      },
      "id": "44EuHewl1UyT"
    },
    {
      "cell_type": "code",
      "execution_count": null,
      "id": "96663ce4",
      "metadata": {
        "id": "96663ce4"
      },
      "outputs": [],
      "source": [
        "!pip install rembg      # Rembg is a tool to remove image background, https://pypi.org/project/rembg/"
      ]
    },
    {
      "cell_type": "code",
      "execution_count": null,
      "id": "2ce2b0c9",
      "metadata": {
        "id": "2ce2b0c9"
      },
      "outputs": [],
      "source": [
        "from rembg import remove\n",
        "from PIL import Image"
      ]
    },
    {
      "cell_type": "code",
      "execution_count": null,
      "id": "fe189041",
      "metadata": {
        "id": "fe189041"
      },
      "outputs": [],
      "source": [
        "input_path = 'Bird.jpg'\n",
        "output_path = 'Bird_Backfree.png'\n",
        "\n",
        "inputimage = Image.open(input_path)\n",
        "outputimage = remove(inputimage)\n",
        "outputimage.save(output_path)"
      ]
    },
    {
      "cell_type": "markdown",
      "source": [
        "If you want to be fancy and decide to see the above two images here, run the following code:"
      ],
      "metadata": {
        "id": "bJU9zoprUB_W"
      },
      "id": "bJU9zoprUB_W"
    },
    {
      "cell_type": "code",
      "source": [
        "# prompt: write code to show images Bird.jpg and Bird_Backfree.png here\n",
        "\n",
        "from IPython.display import Image\n",
        "\n",
        "# Display the original image\n",
        "Image(filename='Bird.jpg')"
      ],
      "metadata": {
        "id": "Jv2eZ45_UCW0"
      },
      "id": "Jv2eZ45_UCW0",
      "execution_count": null,
      "outputs": []
    },
    {
      "cell_type": "code",
      "source": [
        "# Display the image with removed background\n",
        "Image(filename='Bird_Backfree.png')"
      ],
      "metadata": {
        "id": "bY_e4P_7hPXm"
      },
      "id": "bY_e4P_7hPXm",
      "execution_count": null,
      "outputs": []
    }
  ],
  "metadata": {
    "kernelspec": {
      "display_name": "Python 3 (ipykernel)",
      "language": "python",
      "name": "python3"
    },
    "language_info": {
      "codemirror_mode": {
        "name": "ipython",
        "version": 3
      },
      "file_extension": ".py",
      "mimetype": "text/x-python",
      "name": "python",
      "nbconvert_exporter": "python",
      "pygments_lexer": "ipython3",
      "version": "3.9.12"
    },
    "colab": {
      "provenance": [],
      "include_colab_link": true
    }
  },
  "nbformat": 4,
  "nbformat_minor": 5
}